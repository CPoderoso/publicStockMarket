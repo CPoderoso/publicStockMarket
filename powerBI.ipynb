{
 "metadata": {
  "language_info": {
   "codemirror_mode": {
    "name": "ipython",
    "version": 3
   },
   "file_extension": ".py",
   "mimetype": "text/x-python",
   "name": "python",
   "nbconvert_exporter": "python",
   "pygments_lexer": "ipython3",
   "version": "3.7.6-final"
  },
  "orig_nbformat": 2,
  "kernelspec": {
   "name": "python_defaultSpec_1599579184054",
   "display_name": "Python 3.7.6 64-bit ('chpod': virtualenv)"
  }
 },
 "nbformat": 4,
 "nbformat_minor": 2,
 "cells": [
  {
   "cell_type": "code",
   "execution_count": 1,
   "metadata": {
    "tags": []
   },
   "outputs": [],
   "source": [
    "import matplotlib as plt\n",
    "import pandas as pd\n",
    "import psycopg2 as pg\n",
    "\n",
    "conn = pg.connect(\"dbname=stkMarket user=postgres password=Oliveira68#\")\n",
    "curr = conn.cursor()\n",
    "curr.execute(\"SELECT symbol || ', ' || to_char(datetime,'YYYY-MM-DD') PK, symbol, datetime, TO_CHAR(datetime, 'YYYY-MM-DD'), last FROM stockmarket\")\n",
    "\n",
    "df = pd.DataFrame(curr.fetchall(), columns=['PK', 'Symbol', 'Date', 'CharDate', 'Close']).set_index('PK')\n",
    "\n",
    "df_10 = (df.sort_values('PK').groupby('Symbol')['Close'].rolling(10).mean().reset_index())\n",
    "df_50 = (df.sort_values('PK').groupby('Symbol')['Close'].rolling(50).mean().reset_index())\n",
    "\n",
    "df_agg= (df.join(df.sort_values('PK')\n",
    "                   .groupby('Symbol')\n",
    "                   .rolling(10)['Close'].mean()\n",
    "                   .rename('MA 10'), on=['Symbol','PK'])\n",
    "                   .sort_values(['Symbol','PK']))\n",
    "df_agg= (df_agg.join(df.sort_values('PK')\n",
    "                       .groupby('Symbol')\n",
    "                       .rolling(50)['Close'].mean()\n",
    "                       .rename('MA 50'), on=['Symbol','PK'])\n",
    "                       .sort_values(['Symbol','PK']))\n",
    "conn.close()"
   ]
  }
 ]
}